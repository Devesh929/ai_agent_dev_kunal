{
 "cells": [
  {
   "cell_type": "markdown",
   "id": "f883a6d0",
   "metadata": {},
   "source": [
    "# 🧪 Data Profiling Assignment — Analyst Skills in Practice"
   ]
  },
  {
   "cell_type": "markdown",
   "id": "eade3e9e",
   "metadata": {},
   "source": [
    "\n",
    "Welcome! This hands-on assignment mirrors how analysts explore and explain real data.\n",
    "You’ll work with a synthetic dataset (thousands of rows) that mimics common shapes (normal,\n",
    "lognormal, heavy-tailed, uniform, bimodal, and outlier-contaminated).  \n",
    "\n",
    "**What you’ll practice**\n",
    "- **Central tendency:** mean, median, (estimated) mode  \n",
    "- **Dispersion:** variance, std, range, IQR, coefficient of variation (CV)  \n",
    "- **Shape:** skewness, (excess) kurtosis, Q-Q plots  \n",
    "- **Position & extremes:** percentiles, z-scores, outlier flags  \n",
    "- **Rules:** Empirical Rule vs Chebyshev’s inequality  \n",
    "\n",
    "Each question provides **two blank cells** (code + interpretation).  \n",
    "This instructor version also includes clearly labeled **reference solutions** to show\n",
    "professional presentation and optimized code patterns.\n"
   ]
  },
  {
   "cell_type": "markdown",
   "id": "142401bc",
   "metadata": {},
   "source": [
    "---"
   ]
  },
  {
   "cell_type": "markdown",
   "id": "1236f295",
   "metadata": {},
   "source": [
    "### Table of Contents"
   ]
  },
  {
   "cell_type": "markdown",
   "id": "b69b5932",
   "metadata": {},
   "source": [
    "\n",
    "- 1) Setup  \n",
    "- 2) Generate a sample dataset  \n",
    "- 3) Helper utilities  \n",
    "- **Section A** — Central Tendency  \n",
    "- **Section B** — Dispersion  \n",
    "- **Section C** — Shape of the Distribution  \n",
    "- **Section D** — Position & Extremes  \n",
    "- **Section E** — Distribution Rules  \n",
    "- **Section F** — Synthesis & Communication  \n",
    "- Submission Checklist\n"
   ]
  },
  {
   "cell_type": "markdown",
   "id": "8bf5e827",
   "metadata": {},
   "source": [
    "## 1) Setup"
   ]
  },
  {
   "cell_type": "code",
   "execution_count": 1,
   "id": "f43e9dea",
   "metadata": {},
   "outputs": [],
   "source": [
    "\n",
    "import numpy as np\n",
    "import pandas as pd\n",
    "from scipy import stats\n",
    "import matplotlib.pyplot as plt\n",
    "\n",
    "# Display & numeric hygiene\n",
    "np.set_printoptions(suppress=True, edgeitems=3, linewidth=140)\n",
    "pd.set_option('display.width', 140)\n",
    "pd.set_option('display.max_columns', 50)\n",
    "pd.set_option('display.float_format', '{:,.6f}'.format)\n"
   ]
  },
  {
   "cell_type": "markdown",
   "id": "8a9e8a44",
   "metadata": {},
   "source": [
    "## 2) Generate a Sample Dataset (thousands of points)"
   ]
  },
  {
   "cell_type": "code",
   "execution_count": 2,
   "id": "60d15c57",
   "metadata": {},
   "outputs": [
    {
     "data": {
      "text/html": [
       "<div>\n",
       "<style scoped>\n",
       "    .dataframe tbody tr th:only-of-type {\n",
       "        vertical-align: middle;\n",
       "    }\n",
       "\n",
       "    .dataframe tbody tr th {\n",
       "        vertical-align: top;\n",
       "    }\n",
       "\n",
       "    .dataframe thead th {\n",
       "        text-align: right;\n",
       "    }\n",
       "</style>\n",
       "<table border=\"1\" class=\"dataframe\">\n",
       "  <thead>\n",
       "    <tr style=\"text-align: right;\">\n",
       "      <th></th>\n",
       "      <th>normal</th>\n",
       "      <th>lognormal</th>\n",
       "      <th>t_df3</th>\n",
       "      <th>uniform</th>\n",
       "      <th>exponential</th>\n",
       "      <th>bimodal</th>\n",
       "      <th>with_outliers</th>\n",
       "    </tr>\n",
       "  </thead>\n",
       "  <tbody>\n",
       "    <tr>\n",
       "      <th>0</th>\n",
       "      <td>0.304717</td>\n",
       "      <td>0.792822</td>\n",
       "      <td>0.138433</td>\n",
       "      <td>-0.045096</td>\n",
       "      <td>2.049361</td>\n",
       "      <td>-2.145103</td>\n",
       "      <td>-0.651898</td>\n",
       "    </tr>\n",
       "    <tr>\n",
       "      <th>1</th>\n",
       "      <td>-1.039984</td>\n",
       "      <td>0.763733</td>\n",
       "      <td>-0.229852</td>\n",
       "      <td>2.703969</td>\n",
       "      <td>1.891653</td>\n",
       "      <td>-1.722417</td>\n",
       "      <td>-1.579549</td>\n",
       "    </tr>\n",
       "    <tr>\n",
       "      <th>2</th>\n",
       "      <td>0.750451</td>\n",
       "      <td>0.534195</td>\n",
       "      <td>4.519477</td>\n",
       "      <td>1.059963</td>\n",
       "      <td>2.327707</td>\n",
       "      <td>-2.224025</td>\n",
       "      <td>0.646698</td>\n",
       "    </tr>\n",
       "    <tr>\n",
       "      <th>3</th>\n",
       "      <td>0.940565</td>\n",
       "      <td>1.470547</td>\n",
       "      <td>0.611817</td>\n",
       "      <td>0.513368</td>\n",
       "      <td>1.365464</td>\n",
       "      <td>-2.376502</td>\n",
       "      <td>-0.319862</td>\n",
       "    </tr>\n",
       "    <tr>\n",
       "      <th>4</th>\n",
       "      <td>-1.951035</td>\n",
       "      <td>1.235137</td>\n",
       "      <td>0.332825</td>\n",
       "      <td>-1.044643</td>\n",
       "      <td>0.389808</td>\n",
       "      <td>-2.328547</td>\n",
       "      <td>-1.262942</td>\n",
       "    </tr>\n",
       "  </tbody>\n",
       "</table>\n",
       "</div>"
      ],
      "text/plain": [
       "     normal  lognormal     t_df3   uniform  exponential   bimodal  with_outliers\n",
       "0  0.304717   0.792822  0.138433 -0.045096     2.049361 -2.145103      -0.651898\n",
       "1 -1.039984   0.763733 -0.229852  2.703969     1.891653 -1.722417      -1.579549\n",
       "2  0.750451   0.534195  4.519477  1.059963     2.327707 -2.224025       0.646698\n",
       "3  0.940565   1.470547  0.611817  0.513368     1.365464 -2.376502      -0.319862\n",
       "4 -1.951035   1.235137  0.332825 -1.044643     0.389808 -2.328547      -1.262942"
      ]
     },
     "execution_count": 2,
     "metadata": {},
     "output_type": "execute_result"
    }
   ],
   "source": [
    "\n",
    "# Reproducible synthetic data that covers diverse real-world shapes\n",
    "rng = np.random.default_rng(42)\n",
    "n = 5000\n",
    "\n",
    "normal      = rng.normal(0, 1, n)                        # symmetric, light tails\n",
    "lognormal   = rng.lognormal(mean=0.0, sigma=0.9, size=n) # positive, right-skewed\n",
    "t_df3       = rng.standard_t(df=3, size=n)               # symmetric, heavy-tailed\n",
    "uniform     = rng.uniform(-3, 3, size=n)                 # flat\n",
    "exponential = rng.exponential(scale=1.0, size=n)         # positive, right-skewed\n",
    "bimodal     = np.concatenate([rng.normal(-2, 0.5, n//2), rng.normal(2, 0.5, n - n//2)])\n",
    "\n",
    "# Normal with a handful of extreme outliers injected\n",
    "with_outliers = rng.normal(0, 1, n)\n",
    "out_idx = rng.choice(n, size=12, replace=False)\n",
    "with_outliers[out_idx] = rng.normal(0, 1, size=12) * 10\n",
    "\n",
    "df = pd.DataFrame({\n",
    "    \"normal\": normal,\n",
    "    \"lognormal\": lognormal,\n",
    "    \"t_df3\": t_df3,\n",
    "    \"uniform\": uniform,\n",
    "    \"exponential\": exponential,\n",
    "    \"bimodal\": bimodal,\n",
    "    \"with_outliers\": with_outliers\n",
    "})\n",
    "\n",
    "df.head()\n"
   ]
  },
  {
   "cell_type": "markdown",
   "id": "07830829",
   "metadata": {},
   "source": [
    "**Quick profile**"
   ]
  },
  {
   "cell_type": "code",
   "execution_count": 3,
   "id": "2de2c58f",
   "metadata": {},
   "outputs": [
    {
     "data": {
      "text/html": [
       "<div>\n",
       "<style scoped>\n",
       "    .dataframe tbody tr th:only-of-type {\n",
       "        vertical-align: middle;\n",
       "    }\n",
       "\n",
       "    .dataframe tbody tr th {\n",
       "        vertical-align: top;\n",
       "    }\n",
       "\n",
       "    .dataframe thead th {\n",
       "        text-align: right;\n",
       "    }\n",
       "</style>\n",
       "<table border=\"1\" class=\"dataframe\">\n",
       "  <thead>\n",
       "    <tr style=\"text-align: right;\">\n",
       "      <th></th>\n",
       "      <th>count</th>\n",
       "      <th>mean</th>\n",
       "      <th>std</th>\n",
       "      <th>min</th>\n",
       "      <th>1%</th>\n",
       "      <th>5%</th>\n",
       "      <th>25%</th>\n",
       "      <th>50%</th>\n",
       "      <th>75%</th>\n",
       "      <th>95%</th>\n",
       "      <th>99%</th>\n",
       "      <th>max</th>\n",
       "    </tr>\n",
       "  </thead>\n",
       "  <tbody>\n",
       "    <tr>\n",
       "      <th>normal</th>\n",
       "      <td>5,000.000000</td>\n",
       "      <td>-0.019877</td>\n",
       "      <td>0.999454</td>\n",
       "      <td>-3.648413</td>\n",
       "      <td>-2.344475</td>\n",
       "      <td>-1.686511</td>\n",
       "      <td>-0.691954</td>\n",
       "      <td>-0.004161</td>\n",
       "      <td>0.631247</td>\n",
       "      <td>1.616243</td>\n",
       "      <td>2.374687</td>\n",
       "      <td>3.454046</td>\n",
       "    </tr>\n",
       "    <tr>\n",
       "      <th>lognormal</th>\n",
       "      <td>5,000.000000</td>\n",
       "      <td>1.515106</td>\n",
       "      <td>1.746572</td>\n",
       "      <td>0.019251</td>\n",
       "      <td>0.116605</td>\n",
       "      <td>0.224248</td>\n",
       "      <td>0.551296</td>\n",
       "      <td>0.982112</td>\n",
       "      <td>1.831378</td>\n",
       "      <td>4.482198</td>\n",
       "      <td>8.258292</td>\n",
       "      <td>37.458799</td>\n",
       "    </tr>\n",
       "    <tr>\n",
       "      <th>t_df3</th>\n",
       "      <td>5,000.000000</td>\n",
       "      <td>0.028603</td>\n",
       "      <td>1.652612</td>\n",
       "      <td>-12.577299</td>\n",
       "      <td>-4.427467</td>\n",
       "      <td>-2.278996</td>\n",
       "      <td>-0.742290</td>\n",
       "      <td>0.010486</td>\n",
       "      <td>0.765586</td>\n",
       "      <td>2.363684</td>\n",
       "      <td>4.744346</td>\n",
       "      <td>30.190838</td>\n",
       "    </tr>\n",
       "    <tr>\n",
       "      <th>uniform</th>\n",
       "      <td>5,000.000000</td>\n",
       "      <td>0.038330</td>\n",
       "      <td>1.719777</td>\n",
       "      <td>-2.999717</td>\n",
       "      <td>-2.938160</td>\n",
       "      <td>-2.692716</td>\n",
       "      <td>-1.448413</td>\n",
       "      <td>0.029373</td>\n",
       "      <td>1.530037</td>\n",
       "      <td>2.704400</td>\n",
       "      <td>2.939962</td>\n",
       "      <td>2.999743</td>\n",
       "    </tr>\n",
       "    <tr>\n",
       "      <th>exponential</th>\n",
       "      <td>5,000.000000</td>\n",
       "      <td>0.995986</td>\n",
       "      <td>0.993266</td>\n",
       "      <td>0.000030</td>\n",
       "      <td>0.008760</td>\n",
       "      <td>0.053553</td>\n",
       "      <td>0.278624</td>\n",
       "      <td>0.696891</td>\n",
       "      <td>1.374293</td>\n",
       "      <td>2.984003</td>\n",
       "      <td>4.558181</td>\n",
       "      <td>7.766503</td>\n",
       "    </tr>\n",
       "    <tr>\n",
       "      <th>bimodal</th>\n",
       "      <td>5,000.000000</td>\n",
       "      <td>-0.011055</td>\n",
       "      <td>2.053284</td>\n",
       "      <td>-3.798815</td>\n",
       "      <td>-3.026646</td>\n",
       "      <td>-2.645437</td>\n",
       "      <td>-2.000615</td>\n",
       "      <td>0.003059</td>\n",
       "      <td>1.972950</td>\n",
       "      <td>2.635166</td>\n",
       "      <td>3.012465</td>\n",
       "      <td>4.163460</td>\n",
       "    </tr>\n",
       "    <tr>\n",
       "      <th>with_outliers</th>\n",
       "      <td>5,000.000000</td>\n",
       "      <td>0.013223</td>\n",
       "      <td>1.130575</td>\n",
       "      <td>-5.917001</td>\n",
       "      <td>-2.428496</td>\n",
       "      <td>-1.643719</td>\n",
       "      <td>-0.667940</td>\n",
       "      <td>-0.001768</td>\n",
       "      <td>0.673869</td>\n",
       "      <td>1.597652</td>\n",
       "      <td>2.322361</td>\n",
       "      <td>20.732260</td>\n",
       "    </tr>\n",
       "  </tbody>\n",
       "</table>\n",
       "</div>"
      ],
      "text/plain": [
       "                     count      mean      std        min        1%        5%       25%       50%      75%      95%      99%       max\n",
       "normal        5,000.000000 -0.019877 0.999454  -3.648413 -2.344475 -1.686511 -0.691954 -0.004161 0.631247 1.616243 2.374687  3.454046\n",
       "lognormal     5,000.000000  1.515106 1.746572   0.019251  0.116605  0.224248  0.551296  0.982112 1.831378 4.482198 8.258292 37.458799\n",
       "t_df3         5,000.000000  0.028603 1.652612 -12.577299 -4.427467 -2.278996 -0.742290  0.010486 0.765586 2.363684 4.744346 30.190838\n",
       "uniform       5,000.000000  0.038330 1.719777  -2.999717 -2.938160 -2.692716 -1.448413  0.029373 1.530037 2.704400 2.939962  2.999743\n",
       "exponential   5,000.000000  0.995986 0.993266   0.000030  0.008760  0.053553  0.278624  0.696891 1.374293 2.984003 4.558181  7.766503\n",
       "bimodal       5,000.000000 -0.011055 2.053284  -3.798815 -3.026646 -2.645437 -2.000615  0.003059 1.972950 2.635166 3.012465  4.163460\n",
       "with_outliers 5,000.000000  0.013223 1.130575  -5.917001 -2.428496 -1.643719 -0.667940 -0.001768 0.673869 1.597652 2.322361 20.732260"
      ]
     },
     "execution_count": 3,
     "metadata": {},
     "output_type": "execute_result"
    }
   ],
   "source": [
    "df.describe(percentiles=[.01,.05,.25,.5,.75,.95,.99]).T"
   ]
  },
  {
   "cell_type": "markdown",
   "id": "c62c7b26",
   "metadata": {},
   "source": [
    "> Optional: Save a snapshot CSV for reproducibility."
   ]
  },
  {
   "cell_type": "code",
   "execution_count": 4,
   "id": "6311084f",
   "metadata": {},
   "outputs": [
    {
     "name": "stdout",
     "output_type": "stream",
     "text": [
      "Saved: sample_data.csv\n"
     ]
    }
   ],
   "source": [
    "\n",
    "df.to_csv(\"sample_data.csv\", index=False)\n",
    "print(\"Saved: sample_data.csv\")\n"
   ]
  },
  {
   "cell_type": "markdown",
   "id": "5fee1dcc",
   "metadata": {},
   "source": [
    "## 3) Helper Utilities (Reusable)"
   ]
  },
  {
   "cell_type": "code",
   "execution_count": 5,
   "id": "237ef80c",
   "metadata": {},
   "outputs": [],
   "source": [
    "def coefficient_of_variation(x: pd.Series) -> float:\n",
    "    \"\"\"\n",
    "    CV = sample std / mean (returns NaN when mean≈0).\n",
    "    Prefer for strictly-positive metrics (e.g., times, amounts, sizes).\n",
    "    \"\"\"\n",
    "    m = x.mean()\n",
    "    s = x.std(ddof=1)\n",
    "    return np.nan if np.isclose(m, 0.0) else s / m\n",
    "\n",
    "def empirical_within_k(x: pd.Series, k: int) -> float:\n",
    "    \"\"\"Share of points within k standard deviations of the sample mean.\"\"\"\n",
    "    m, s = x.mean(), x.std(ddof=1)\n",
    "    if np.isclose(s, 0.0):\n",
    "        return np.nan\n",
    "    z = (x - m) / s\n",
    "    return (np.abs(z) <= k).mean()\n",
    "\n",
    "def chebyshev_lower_bound(k: int) -> float:\n",
    "    \"\"\"Chebyshev bound: P(|X - μ| ≤ kσ) ≥ 1 - 1/k², for k ≥ 1 (distribution-free).\"\"\"\n",
    "    assert k >= 1\n",
    "    return 1 - 1 / (k**2)\n",
    "\n",
    "def z_scores(x: pd.Series) -> pd.Series:\n",
    "    \"\"\"Sample z-scores (ddof=1).\"\"\"\n",
    "    return (x - x.mean()) / x.std(ddof=1)\n",
    "\n",
    "def estimated_mode_from_hist(x: pd.Series, bins: int = 50) -> float:\n",
    "    \"\"\"\n",
    "    Rough mode estimate: midpoint of the most populated histogram bin.\n",
    "    Works across many shapes; robust enough for quick profiling.\n",
    "    \"\"\"\n",
    "    counts, bin_edges = np.histogram(x, bins=bins)\n",
    "    idx = counts.argmax()\n",
    "    return (bin_edges[idx] + bin_edges[idx+1]) / 2\n",
    "\n",
    "def hist_and_qq(x: pd.Series, bins: int = 50, title: str = \"\"):\n",
    "    \"\"\"\n",
    "    Quick shape visuals. Run as needed.\n",
    "    (Do not set explicit colors or styles — keep defaults for reproducibility.)\n",
    "    \"\"\"\n",
    "    plt.figure()\n",
    "    plt.hist(x.values, bins=bins)\n",
    "    plt.title(f\"Histogram: {title}\")\n",
    "    plt.xlabel(\"value\"); plt.ylabel(\"count\")\n",
    "    plt.show()\n",
    "\n",
    "    plt.figure()\n",
    "    stats.probplot(x, dist=\"norm\", plot=plt)\n",
    "    plt.title(f\"Normal Q-Q: {title}\")\n",
    "    plt.show()\n"
   ]
  },
  {
   "cell_type": "markdown",
   "id": "537e4e9a",
   "metadata": {},
   "source": [
    "# Section A — Central Tendency"
   ]
  },
  {
   "cell_type": "markdown",
   "id": "b6512d9f",
   "metadata": {},
   "source": [
    "### A1. Mean vs Median (and an estimate of Mode)"
   ]
  },
  {
   "cell_type": "markdown",
   "id": "6467d0cf",
   "metadata": {},
   "source": [
    "\n",
    "Pick **two columns** — one roughly symmetric (e.g., `normal`) and one skewed (e.g., `lognormal` or `exponential`).\n",
    "\n",
    "1) Compute **mean** and **median** for each.  \n",
    "2) Provide a **rough estimate of the mode** (use `estimated_mode_from_hist`).  \n",
    "3) Explain the **ordering** (mean vs median vs mode) and what it implies about **symmetry/skewness**.  \n",
    "4) In a business context, when would you prefer **median** over **mean**, and why?\n"
   ]
  },
  {
   "cell_type": "code",
   "execution_count": 6,
   "id": "623dbd18",
   "metadata": {},
   "outputs": [],
   "source": [
    "# 👇 Your code here"
   ]
  },
  {
   "cell_type": "markdown",
   "id": "94a3b7b0",
   "metadata": {},
   "source": [
    "_Use this cell for your interpretation / short write-up._"
   ]
  },
  {
   "cell_type": "markdown",
   "id": "6619ae92",
   "metadata": {},
   "source": [
    "**Instructor Reference — A1 Solution**"
   ]
  },
  {
   "cell_type": "code",
   "execution_count": 7,
   "id": "e69c4c0c",
   "metadata": {},
   "outputs": [
    {
     "data": {
      "text/html": [
       "<div>\n",
       "<style scoped>\n",
       "    .dataframe tbody tr th:only-of-type {\n",
       "        vertical-align: middle;\n",
       "    }\n",
       "\n",
       "    .dataframe tbody tr th {\n",
       "        vertical-align: top;\n",
       "    }\n",
       "\n",
       "    .dataframe thead th {\n",
       "        text-align: right;\n",
       "    }\n",
       "</style>\n",
       "<table border=\"1\" class=\"dataframe\">\n",
       "  <thead>\n",
       "    <tr style=\"text-align: right;\">\n",
       "      <th></th>\n",
       "      <th>mean</th>\n",
       "      <th>median</th>\n",
       "      <th>mode_est</th>\n",
       "    </tr>\n",
       "    <tr>\n",
       "      <th>column</th>\n",
       "      <th></th>\n",
       "      <th></th>\n",
       "      <th></th>\n",
       "    </tr>\n",
       "  </thead>\n",
       "  <tbody>\n",
       "    <tr>\n",
       "      <th>normal</th>\n",
       "      <td>-0.019877</td>\n",
       "      <td>-0.004161</td>\n",
       "      <td>0.317127</td>\n",
       "    </tr>\n",
       "    <tr>\n",
       "      <th>lognormal</th>\n",
       "      <td>1.515106</td>\n",
       "      <td>0.982112</td>\n",
       "      <td>0.331247</td>\n",
       "    </tr>\n",
       "  </tbody>\n",
       "</table>\n",
       "</div>"
      ],
      "text/plain": [
       "               mean    median  mode_est\n",
       "column                                 \n",
       "normal    -0.019877 -0.004161  0.317127\n",
       "lognormal  1.515106  0.982112  0.331247"
      ]
     },
     "execution_count": 7,
     "metadata": {},
     "output_type": "execute_result"
    }
   ],
   "source": [
    "cols = [\"normal\", \"lognormal\"]\n",
    "summary = []\n",
    "for c in cols:\n",
    "    s = df[c]\n",
    "    row = {\n",
    "        \"column\": c,\n",
    "        \"mean\": s.mean(),\n",
    "        \"median\": s.median(),\n",
    "        \"mode_est\": estimated_mode_from_hist(s, bins=60)\n",
    "    }\n",
    "    summary.append(row)\n",
    "\n",
    "pd.DataFrame(summary).set_index(\"column\")"
   ]
  },
  {
   "cell_type": "markdown",
   "id": "e38c3f03",
   "metadata": {},
   "source": [
    "**Professional interpretation:**  \n",
    "- For `normal`, mean ≈ median ≈ mode (symmetry).  \n",
    "- For `lognormal`, **mode < median < mean** (right-skew): high positive tail pulls the mean up most.  \n",
    "**When to prefer median:** with skewed or outlier-prone metrics (e.g., income, response times), the median\n",
    "better represents a “typical” case and resists extreme values."
   ]
  },
  {
   "cell_type": "markdown",
   "id": "fd7d66bb",
   "metadata": {},
   "source": [
    "### A2. Robustness to Outliers"
   ]
  },
  {
   "cell_type": "markdown",
   "id": "2b12bb38",
   "metadata": {},
   "source": [
    "\n",
    "Using `with_outliers`:\n",
    "\n",
    "1) Compute the mean and median **before** and **after** trimming the top/bottom 1% (use percentiles).  \n",
    "2) Which statistic is **more robust** to the injected extremes? Explain.  \n",
    "3) Why might stakeholders be misled by the mean here? Provide a short note.\n"
   ]
  },
  {
   "cell_type": "code",
   "execution_count": 8,
   "id": "f7e6e9d1",
   "metadata": {},
   "outputs": [],
   "source": [
    "# 👇 Your code here"
   ]
  },
  {
   "cell_type": "markdown",
   "id": "19c59bb0",
   "metadata": {},
   "source": [
    "_Use this cell for your interpretation / short write-up._"
   ]
  },
  {
   "cell_type": "markdown",
   "id": "3d58fbb8",
   "metadata": {},
   "source": [
    "**Instructor Reference — A2 Solution**"
   ]
  },
  {
   "cell_type": "code",
   "execution_count": 9,
   "id": "1ec4642e",
   "metadata": {},
   "outputs": [
    {
     "data": {
      "text/html": [
       "<div>\n",
       "<style scoped>\n",
       "    .dataframe tbody tr th:only-of-type {\n",
       "        vertical-align: middle;\n",
       "    }\n",
       "\n",
       "    .dataframe tbody tr th {\n",
       "        vertical-align: top;\n",
       "    }\n",
       "\n",
       "    .dataframe thead th {\n",
       "        text-align: right;\n",
       "    }\n",
       "</style>\n",
       "<table border=\"1\" class=\"dataframe\">\n",
       "  <thead>\n",
       "    <tr style=\"text-align: right;\">\n",
       "      <th></th>\n",
       "      <th>original</th>\n",
       "      <th>trim_1pct_each_side</th>\n",
       "    </tr>\n",
       "    <tr>\n",
       "      <th>metric</th>\n",
       "      <th></th>\n",
       "      <th></th>\n",
       "    </tr>\n",
       "  </thead>\n",
       "  <tbody>\n",
       "    <tr>\n",
       "      <th>mean</th>\n",
       "      <td>0.013223</td>\n",
       "      <td>0.000714</td>\n",
       "    </tr>\n",
       "    <tr>\n",
       "      <th>median</th>\n",
       "      <td>-0.001768</td>\n",
       "      <td>-0.001768</td>\n",
       "    </tr>\n",
       "  </tbody>\n",
       "</table>\n",
       "</div>"
      ],
      "text/plain": [
       "        original  trim_1pct_each_side\n",
       "metric                               \n",
       "mean    0.013223             0.000714\n",
       "median -0.001768            -0.001768"
      ]
     },
     "execution_count": 9,
     "metadata": {},
     "output_type": "execute_result"
    }
   ],
   "source": [
    "s = df[\"with_outliers\"]\n",
    "lo, hi = s.quantile([0.01, 0.99])\n",
    "trimmed = s[(s >= lo) & (s <= hi)]\n",
    "\n",
    "res = pd.DataFrame({\n",
    "    \"metric\": [\"mean\", \"median\"],\n",
    "    \"original\": [s.mean(), s.median()],\n",
    "    \"trim_1pct_each_side\": [trimmed.mean(), trimmed.median()]\n",
    "}).set_index(\"metric\")\n",
    "res"
   ]
  },
  {
   "cell_type": "markdown",
   "id": "66022c5e",
   "metadata": {},
   "source": [
    "**Professional interpretation:**  \n",
    "- The **mean** shifts substantially after trimming (sensitive to extremes).  \n",
    "- The **median** barely moves (robust).  \n",
    "Stakeholders may be misled by the mean because a few extreme events inflate the “average”, masking the typical experience."
   ]
  },
  {
   "cell_type": "markdown",
   "id": "e8573e03",
   "metadata": {},
   "source": [
    "# Section B — Dispersion (Spread)"
   ]
  },
  {
   "cell_type": "markdown",
   "id": "6c599192",
   "metadata": {},
   "source": [
    "### B1. Variance, Standard Deviation, Range, and IQR"
   ]
  },
  {
   "cell_type": "markdown",
   "id": "4766baf9",
   "metadata": {},
   "source": [
    "\n",
    "For **at least three columns** (suggestion: `normal`, `t_df3`, `with_outliers`):\n",
    "\n",
    "1) Compute **variance**, **std**, **range** (max−min), and **IQR** (Q3−Q1).  \n",
    "2) Interpret how **outliers** and **heavy tails** change these measures.  \n",
    "3) Who would care about this in practice (e.g., risk, ops, product)?\n"
   ]
  },
  {
   "cell_type": "code",
   "execution_count": 10,
   "id": "6b2da7ee",
   "metadata": {},
   "outputs": [],
   "source": [
    "# 👇 Your code here"
   ]
  },
  {
   "cell_type": "markdown",
   "id": "a5d59a93",
   "metadata": {},
   "source": [
    "_Use this cell for your interpretation / short write-up._"
   ]
  },
  {
   "cell_type": "markdown",
   "id": "d53bf9ed",
   "metadata": {},
   "source": [
    "**Instructor Reference — B1 Solution**"
   ]
  },
  {
   "cell_type": "code",
   "execution_count": 11,
   "id": "4e47a5dd",
   "metadata": {},
   "outputs": [
    {
     "data": {
      "text/html": [
       "<div>\n",
       "<style scoped>\n",
       "    .dataframe tbody tr th:only-of-type {\n",
       "        vertical-align: middle;\n",
       "    }\n",
       "\n",
       "    .dataframe tbody tr th {\n",
       "        vertical-align: top;\n",
       "    }\n",
       "\n",
       "    .dataframe thead th {\n",
       "        text-align: right;\n",
       "    }\n",
       "</style>\n",
       "<table border=\"1\" class=\"dataframe\">\n",
       "  <thead>\n",
       "    <tr style=\"text-align: right;\">\n",
       "      <th></th>\n",
       "      <th>variance</th>\n",
       "      <th>std</th>\n",
       "      <th>range</th>\n",
       "      <th>IQR</th>\n",
       "    </tr>\n",
       "    <tr>\n",
       "      <th>column</th>\n",
       "      <th></th>\n",
       "      <th></th>\n",
       "      <th></th>\n",
       "      <th></th>\n",
       "    </tr>\n",
       "  </thead>\n",
       "  <tbody>\n",
       "    <tr>\n",
       "      <th>normal</th>\n",
       "      <td>0.998909</td>\n",
       "      <td>0.999454</td>\n",
       "      <td>7.102459</td>\n",
       "      <td>1.323201</td>\n",
       "    </tr>\n",
       "    <tr>\n",
       "      <th>t_df3</th>\n",
       "      <td>2.731127</td>\n",
       "      <td>1.652612</td>\n",
       "      <td>42.768137</td>\n",
       "      <td>1.507876</td>\n",
       "    </tr>\n",
       "    <tr>\n",
       "      <th>with_outliers</th>\n",
       "      <td>1.278199</td>\n",
       "      <td>1.130575</td>\n",
       "      <td>26.649261</td>\n",
       "      <td>1.341809</td>\n",
       "    </tr>\n",
       "  </tbody>\n",
       "</table>\n",
       "</div>"
      ],
      "text/plain": [
       "               variance      std     range      IQR\n",
       "column                                             \n",
       "normal         0.998909 0.999454  7.102459 1.323201\n",
       "t_df3          2.731127 1.652612 42.768137 1.507876\n",
       "with_outliers  1.278199 1.130575 26.649261 1.341809"
      ]
     },
     "execution_count": 11,
     "metadata": {},
     "output_type": "execute_result"
    }
   ],
   "source": [
    "cols = [\"normal\", \"t_df3\", \"with_outliers\"]\n",
    "out = []\n",
    "for c in cols:\n",
    "    s = df[c]\n",
    "    q1, q3 = s.quantile([0.25, 0.75])\n",
    "    out.append({\n",
    "        \"column\": c,\n",
    "        \"variance\": s.var(ddof=1),\n",
    "        \"std\": s.std(ddof=1),\n",
    "        \"range\": s.max() - s.min(),\n",
    "        \"IQR\": q3 - q1\n",
    "    })\n",
    "pd.DataFrame(out).set_index(\"column\")"
   ]
  },
  {
   "cell_type": "markdown",
   "id": "1d81061a",
   "metadata": {},
   "source": [
    "**Professional interpretation:**  \n",
    "- **Heavy tails** (`t_df3`) inflate variance/std relative to a normal with similar center.  \n",
    "- **Outliers** (`with_outliers`) explode **range** and elevate **std/variance**; IQR grows less since it’s percentile-based.  \n",
    "**Who cares:** risk teams (tail risk), operations (process variability), product/CS (customer experience volatility)."
   ]
  },
  {
   "cell_type": "markdown",
   "id": "37f2a24c",
   "metadata": {},
   "source": [
    "### B2. Coefficient of Variation (CV)"
   ]
  },
  {
   "cell_type": "markdown",
   "id": "4ffbdb65",
   "metadata": {},
   "source": [
    "\n",
    "For **positive-valued** columns (e.g., `lognormal`, `exponential`):\n",
    "\n",
    "1) Compute **CV = std/mean**.  \n",
    "2) Rank the selected columns by CV.  \n",
    "3) Explain when CV is **not appropriate** (hint: mean≈0 or sign changes).\n"
   ]
  },
  {
   "cell_type": "code",
   "execution_count": 12,
   "id": "0bf33ac9",
   "metadata": {},
   "outputs": [],
   "source": [
    "# 👇 Your code here"
   ]
  },
  {
   "cell_type": "markdown",
   "id": "78f00a2a",
   "metadata": {},
   "source": [
    "_Use this cell for your interpretation / short write-up._"
   ]
  },
  {
   "cell_type": "markdown",
   "id": "83128322",
   "metadata": {},
   "source": [
    "**Instructor Reference — B2 Solution**"
   ]
  },
  {
   "cell_type": "code",
   "execution_count": 13,
   "id": "bb465652",
   "metadata": {},
   "outputs": [
    {
     "data": {
      "text/html": [
       "<div>\n",
       "<style scoped>\n",
       "    .dataframe tbody tr th:only-of-type {\n",
       "        vertical-align: middle;\n",
       "    }\n",
       "\n",
       "    .dataframe tbody tr th {\n",
       "        vertical-align: top;\n",
       "    }\n",
       "\n",
       "    .dataframe thead th {\n",
       "        text-align: right;\n",
       "    }\n",
       "</style>\n",
       "<table border=\"1\" class=\"dataframe\">\n",
       "  <thead>\n",
       "    <tr style=\"text-align: right;\">\n",
       "      <th></th>\n",
       "      <th>CV</th>\n",
       "    </tr>\n",
       "  </thead>\n",
       "  <tbody>\n",
       "    <tr>\n",
       "      <th>lognormal</th>\n",
       "      <td>1.152772</td>\n",
       "    </tr>\n",
       "    <tr>\n",
       "      <th>exponential</th>\n",
       "      <td>0.997269</td>\n",
       "    </tr>\n",
       "  </tbody>\n",
       "</table>\n",
       "</div>"
      ],
      "text/plain": [
       "                  CV\n",
       "lognormal   1.152772\n",
       "exponential 0.997269"
      ]
     },
     "execution_count": 13,
     "metadata": {},
     "output_type": "execute_result"
    }
   ],
   "source": [
    "cols = [\"lognormal\", \"exponential\"]\n",
    "cv = pd.Series({c: coefficient_of_variation(df[c]) for c in cols}, name=\"CV\").sort_values(ascending=False)\n",
    "cv.to_frame()"
   ]
  },
  {
   "cell_type": "markdown",
   "id": "f309cba0",
   "metadata": {},
   "source": [
    "**Professional interpretation:**  \n",
    "- Higher CV ⇒ greater relative variability to the mean (risk per unit of return/cost).  \n",
    "- CV is **not appropriate** when the mean is near zero or values cross zero (ratio becomes unstable/meaningless)."
   ]
  },
  {
   "cell_type": "markdown",
   "id": "53285208",
   "metadata": {},
   "source": [
    "# Section C — Shape of the Distribution"
   ]
  },
  {
   "cell_type": "markdown",
   "id": "06189ad0",
   "metadata": {},
   "source": [
    "### C1. Skewness & Kurtosis"
   ]
  },
  {
   "cell_type": "markdown",
   "id": "0f0b1295",
   "metadata": {},
   "source": [
    "\n",
    "Across **all columns**:\n",
    "\n",
    "1) Compute **skewness** and **(excess) kurtosis** (`scipy.stats.kurtosis(..., fisher=True)`).  \n",
    "2) Identify which are **right/left-skewed**.  \n",
    "3) Which have **heavy tails** (excess kurtosis > 0)? What shows up in the Q-Q plot?\n"
   ]
  },
  {
   "cell_type": "code",
   "execution_count": 14,
   "id": "0b856a8a",
   "metadata": {},
   "outputs": [],
   "source": [
    "# 👇 Your code here"
   ]
  },
  {
   "cell_type": "markdown",
   "id": "d4fbd769",
   "metadata": {},
   "source": [
    "_Use this cell for your interpretation / short write-up._"
   ]
  },
  {
   "cell_type": "markdown",
   "id": "7ded378c",
   "metadata": {},
   "source": [
    "**Instructor Reference — C1 Solution**"
   ]
  },
  {
   "cell_type": "code",
   "execution_count": 15,
   "id": "e2085422",
   "metadata": {},
   "outputs": [
    {
     "data": {
      "text/html": [
       "<div>\n",
       "<style scoped>\n",
       "    .dataframe tbody tr th:only-of-type {\n",
       "        vertical-align: middle;\n",
       "    }\n",
       "\n",
       "    .dataframe tbody tr th {\n",
       "        vertical-align: top;\n",
       "    }\n",
       "\n",
       "    .dataframe thead th {\n",
       "        text-align: right;\n",
       "    }\n",
       "</style>\n",
       "<table border=\"1\" class=\"dataframe\">\n",
       "  <thead>\n",
       "    <tr style=\"text-align: right;\">\n",
       "      <th></th>\n",
       "      <th>skew</th>\n",
       "      <th>excess_kurtosis</th>\n",
       "    </tr>\n",
       "    <tr>\n",
       "      <th>column</th>\n",
       "      <th></th>\n",
       "      <th></th>\n",
       "    </tr>\n",
       "  </thead>\n",
       "  <tbody>\n",
       "    <tr>\n",
       "      <th>lognormal</th>\n",
       "      <td>5.131989</td>\n",
       "      <td>56.754461</td>\n",
       "    </tr>\n",
       "    <tr>\n",
       "      <th>with_outliers</th>\n",
       "      <td>2.975650</td>\n",
       "      <td>46.378983</td>\n",
       "    </tr>\n",
       "    <tr>\n",
       "      <th>t_df3</th>\n",
       "      <td>1.544861</td>\n",
       "      <td>31.274059</td>\n",
       "    </tr>\n",
       "    <tr>\n",
       "      <th>exponential</th>\n",
       "      <td>1.865222</td>\n",
       "      <td>4.611082</td>\n",
       "    </tr>\n",
       "    <tr>\n",
       "      <th>normal</th>\n",
       "      <td>0.002143</td>\n",
       "      <td>0.037397</td>\n",
       "    </tr>\n",
       "    <tr>\n",
       "      <th>uniform</th>\n",
       "      <td>-0.023694</td>\n",
       "      <td>-1.186323</td>\n",
       "    </tr>\n",
       "    <tr>\n",
       "      <th>bimodal</th>\n",
       "      <td>0.003497</td>\n",
       "      <td>-1.765136</td>\n",
       "    </tr>\n",
       "  </tbody>\n",
       "</table>\n",
       "</div>"
      ],
      "text/plain": [
       "                   skew  excess_kurtosis\n",
       "column                                  \n",
       "lognormal      5.131989        56.754461\n",
       "with_outliers  2.975650        46.378983\n",
       "t_df3          1.544861        31.274059\n",
       "exponential    1.865222         4.611082\n",
       "normal         0.002143         0.037397\n",
       "uniform       -0.023694        -1.186323\n",
       "bimodal        0.003497        -1.765136"
      ]
     },
     "execution_count": 15,
     "metadata": {},
     "output_type": "execute_result"
    }
   ],
   "source": [
    "cols = df.columns.tolist()\n",
    "shape = []\n",
    "for c in cols:\n",
    "    s = df[c]\n",
    "    shape.append({\n",
    "        \"column\": c,\n",
    "        \"skew\": stats.skew(s, bias=False),\n",
    "        \"excess_kurtosis\": stats.kurtosis(s, fisher=True, bias=False)\n",
    "    })\n",
    "pd.DataFrame(shape).set_index(\"column\").sort_values(\"excess_kurtosis\", ascending=False)"
   ]
  },
  {
   "cell_type": "markdown",
   "id": "c65acb6b",
   "metadata": {},
   "source": [
    "**Professional interpretation:**  \n",
    "- Right-skew: `lognormal`, `exponential` (long positive tail).  \n",
    "- Near-symmetric: `normal`, `t_df3` (though `t_df3` has **heavy tails**, excess kurtosis > 0).  \n",
    "- Bimodal shape isn’t captured well by skew/kurtosis alone — Q-Q plots show deviations from a straight line (especially in tails)."
   ]
  },
  {
   "cell_type": "markdown",
   "id": "1db32f50",
   "metadata": {},
   "source": [
    "### C2. Visual Intuition Check"
   ]
  },
  {
   "cell_type": "markdown",
   "id": "e1dea24b",
   "metadata": {},
   "source": [
    "\n",
    "Pick **two columns** with different shapes (e.g., `normal` vs `bimodal`).\n",
    "\n",
    "1) Plot a histogram and a normal Q-Q plot for each (`hist_and_qq`).  \n",
    "2) Explain why percentiles or averages alone can miss **multimodality**.\n"
   ]
  },
  {
   "cell_type": "code",
   "execution_count": 16,
   "id": "69fbc9d6",
   "metadata": {},
   "outputs": [],
   "source": [
    "# 👇 Your code here"
   ]
  },
  {
   "cell_type": "markdown",
   "id": "cfb4bdc2",
   "metadata": {},
   "source": [
    "_Use this cell for your interpretation / short write-up._"
   ]
  },
  {
   "cell_type": "markdown",
   "id": "d04fb94f",
   "metadata": {},
   "source": [
    "**Instructor Reference — C2 Solution**"
   ]
  },
  {
   "cell_type": "code",
   "execution_count": 17,
   "id": "ee47d0ac",
   "metadata": {},
   "outputs": [
    {
     "data": {
      "image/png": "[encoded data removed]",
      "text/plain": [
       "<Figure size 640x480 with 1 Axes>"
      ]
     },
     "metadata": {},
     "output_type": "display_data"
    },
    {
     "data": {
      "image/png": "[encoded data removed]",
      "text/plain": [
       "<Figure size 640x480 with 1 Axes>"
      ]
     },
     "metadata": {},
     "output_type": "display_data"
    },
    {
     "data": {
      "image/png": "[encoded data removed]",
      "text/plain": [
       "<Figure size 640x480 with 1 Axes>"
      ]
     },
     "metadata": {},
     "output_type": "display_data"
    },
    {
     "data": {
      "image/png": "[encoded data removed]",
      "text/plain": [
       "<Figure size 640x480 with 1 Axes>"
      ]
     },
     "metadata": {},
     "output_type": "display_data"
    }
   ],
   "source": [
    "hist_and_qq(df[\"normal\"], title=\"normal\")\n",
    "hist_and_qq(df[\"bimodal\"], title=\"bimodal\")"
   ]
  },
  {
   "cell_type": "markdown",
   "id": "b2bd4a57",
   "metadata": {},
   "source": [
    "**Professional interpretation:**  \n",
    "- Averages/percentiles condense information and can hide **multiple clusters** (bimodality).  \n",
    "- Visuals reveal two distinct peaks even when central tendency metrics look innocuous."
   ]
  },
  {
   "cell_type": "markdown",
   "id": "f719eae4",
   "metadata": {},
   "source": [
    "# Section D — Position & Extremes"
   ]
  },
  {
   "cell_type": "markdown",
   "id": "4125b09e",
   "metadata": {},
   "source": [
    "### D1. Min/Max & Percentiles"
   ]
  },
  {
   "cell_type": "markdown",
   "id": "9dfc62f3",
   "metadata": {},
   "source": [
    "\n",
    "For **each column**:\n",
    "\n",
    "1) Report **min**, **max**, and key **percentiles** (1st, 5th, 25th, 50th, 75th, 95th, 99th).  \n",
    "2) Which columns show the **widest** 1st–99th percentile gap?  \n",
    "3) What operational risks might that imply?\n"
   ]
  },
  {
   "cell_type": "code",
   "execution_count": 18,
   "id": "7b551f40",
   "metadata": {},
   "outputs": [],
   "source": [
    "# 👇 Your code here"
   ]
  },
  {
   "cell_type": "markdown",
   "id": "9db295bb",
   "metadata": {},
   "source": [
    "_Use this cell for your interpretation / short write-up._"
   ]
  },
  {
   "cell_type": "markdown",
   "id": "4657f680",
   "metadata": {},
   "source": [
    "**Instructor Reference — D1 Solution**"
   ]
  },
  {
   "cell_type": "code",
   "execution_count": 19,
   "id": "4c67746d",
   "metadata": {},
   "outputs": [
    {
     "data": {
      "text/html": [
       "<div>\n",
       "<style scoped>\n",
       "    .dataframe tbody tr th:only-of-type {\n",
       "        vertical-align: middle;\n",
       "    }\n",
       "\n",
       "    .dataframe tbody tr th {\n",
       "        vertical-align: top;\n",
       "    }\n",
       "\n",
       "    .dataframe thead th {\n",
       "        text-align: right;\n",
       "    }\n",
       "</style>\n",
       "<table border=\"1\" class=\"dataframe\">\n",
       "  <thead>\n",
       "    <tr style=\"text-align: right;\">\n",
       "      <th></th>\n",
       "      <th>min</th>\n",
       "      <th>p1</th>\n",
       "      <th>p5</th>\n",
       "      <th>p25</th>\n",
       "      <th>p50</th>\n",
       "      <th>p75</th>\n",
       "      <th>p95</th>\n",
       "      <th>p99</th>\n",
       "      <th>max</th>\n",
       "      <th>p01_99_spread</th>\n",
       "    </tr>\n",
       "    <tr>\n",
       "      <th>column</th>\n",
       "      <th></th>\n",
       "      <th></th>\n",
       "      <th></th>\n",
       "      <th></th>\n",
       "      <th></th>\n",
       "      <th></th>\n",
       "      <th></th>\n",
       "      <th></th>\n",
       "      <th></th>\n",
       "      <th></th>\n",
       "    </tr>\n",
       "  </thead>\n",
       "  <tbody>\n",
       "    <tr>\n",
       "      <th>t_df3</th>\n",
       "      <td>-12.577299</td>\n",
       "      <td>-4.427467</td>\n",
       "      <td>-2.278996</td>\n",
       "      <td>-0.742290</td>\n",
       "      <td>0.010486</td>\n",
       "      <td>0.765586</td>\n",
       "      <td>2.363684</td>\n",
       "      <td>4.744346</td>\n",
       "      <td>30.190838</td>\n",
       "      <td>9.171813</td>\n",
       "    </tr>\n",
       "    <tr>\n",
       "      <th>lognormal</th>\n",
       "      <td>0.019251</td>\n",
       "      <td>0.116605</td>\n",
       "      <td>0.224248</td>\n",
       "      <td>0.551296</td>\n",
       "      <td>0.982112</td>\n",
       "      <td>1.831378</td>\n",
       "      <td>4.482198</td>\n",
       "      <td>8.258292</td>\n",
       "      <td>37.458799</td>\n",
       "      <td>8.141687</td>\n",
       "    </tr>\n",
       "    <tr>\n",
       "      <th>bimodal</th>\n",
       "      <td>-3.798815</td>\n",
       "      <td>-3.026646</td>\n",
       "      <td>-2.645437</td>\n",
       "      <td>-2.000615</td>\n",
       "      <td>0.003059</td>\n",
       "      <td>1.972950</td>\n",
       "      <td>2.635166</td>\n",
       "      <td>3.012465</td>\n",
       "      <td>4.163460</td>\n",
       "      <td>6.039112</td>\n",
       "    </tr>\n",
       "    <tr>\n",
       "      <th>uniform</th>\n",
       "      <td>-2.999717</td>\n",
       "      <td>-2.938160</td>\n",
       "      <td>-2.692716</td>\n",
       "      <td>-1.448413</td>\n",
       "      <td>0.029373</td>\n",
       "      <td>1.530037</td>\n",
       "      <td>2.704400</td>\n",
       "      <td>2.939962</td>\n",
       "      <td>2.999743</td>\n",
       "      <td>5.878122</td>\n",
       "    </tr>\n",
       "    <tr>\n",
       "      <th>with_outliers</th>\n",
       "      <td>-5.917001</td>\n",
       "      <td>-2.428496</td>\n",
       "      <td>-1.643719</td>\n",
       "      <td>-0.667940</td>\n",
       "      <td>-0.001768</td>\n",
       "      <td>0.673869</td>\n",
       "      <td>1.597652</td>\n",
       "      <td>2.322361</td>\n",
       "      <td>20.732260</td>\n",
       "      <td>4.750857</td>\n",
       "    </tr>\n",
       "    <tr>\n",
       "      <th>normal</th>\n",
       "      <td>-3.648413</td>\n",
       "      <td>-2.344475</td>\n",
       "      <td>-1.686511</td>\n",
       "      <td>-0.691954</td>\n",
       "      <td>-0.004161</td>\n",
       "      <td>0.631247</td>\n",
       "      <td>1.616243</td>\n",
       "      <td>2.374687</td>\n",
       "      <td>3.454046</td>\n",
       "      <td>4.719161</td>\n",
       "    </tr>\n",
       "    <tr>\n",
       "      <th>exponential</th>\n",
       "      <td>0.000030</td>\n",
       "      <td>0.008760</td>\n",
       "      <td>0.053553</td>\n",
       "      <td>0.278624</td>\n",
       "      <td>0.696891</td>\n",
       "      <td>1.374293</td>\n",
       "      <td>2.984003</td>\n",
       "      <td>4.558181</td>\n",
       "      <td>7.766503</td>\n",
       "      <td>4.549420</td>\n",
       "    </tr>\n",
       "  </tbody>\n",
       "</table>\n",
       "</div>"
      ],
      "text/plain": [
       "                     min        p1        p5       p25       p50      p75      p95      p99       max  p01_99_spread\n",
       "column                                                                                                              \n",
       "t_df3         -12.577299 -4.427467 -2.278996 -0.742290  0.010486 0.765586 2.363684 4.744346 30.190838       9.171813\n",
       "lognormal       0.019251  0.116605  0.224248  0.551296  0.982112 1.831378 4.482198 8.258292 37.458799       8.141687\n",
       "bimodal        -3.798815 -3.026646 -2.645437 -2.000615  0.003059 1.972950 2.635166 3.012465  4.163460       6.039112\n",
       "uniform        -2.999717 -2.938160 -2.692716 -1.448413  0.029373 1.530037 2.704400 2.939962  2.999743       5.878122\n",
       "with_outliers  -5.917001 -2.428496 -1.643719 -0.667940 -0.001768 0.673869 1.597652 2.322361 20.732260       4.750857\n",
       "normal         -3.648413 -2.344475 -1.686511 -0.691954 -0.004161 0.631247 1.616243 2.374687  3.454046       4.719161\n",
       "exponential     0.000030  0.008760  0.053553  0.278624  0.696891 1.374293 2.984003 4.558181  7.766503       4.549420"
      ]
     },
     "execution_count": 19,
     "metadata": {},
     "output_type": "execute_result"
    }
   ],
   "source": [
    "qs = [0.01, 0.05, 0.25, 0.5, 0.75, 0.95, 0.99]\n",
    "rows = []\n",
    "for c in df.columns:\n",
    "    s = df[c]\n",
    "    q = s.quantile(qs).to_dict()\n",
    "    rows.append({\n",
    "        \"column\": c,\n",
    "        \"min\": s.min(),\n",
    "        **{f\"p{int(k*100)}\": v for k, v in q.items()},\n",
    "        \"max\": s.max(),\n",
    "        \"p01_99_spread\": q[0.99] - q[0.01]\n",
    "    })\n",
    "res = pd.DataFrame(rows).set_index(\"column\").sort_values(\"p01_99_spread\", ascending=False)\n",
    "res"
   ]
  },
  {
   "cell_type": "markdown",
   "id": "426e69ee",
   "metadata": {},
   "source": [
    "**Professional interpretation:**  \n",
    "Columns with the largest **p01–p99 spread** exhibit the widest “typical” variability.\n",
    "This signals planning risk (buffering, SLAs), pricing risk (extremes), or resource risk (peak loads)."
   ]
  },
  {
   "cell_type": "markdown",
   "id": "9e4ac472",
   "metadata": {},
   "source": [
    "### D2. Z-Scores & Outlier Flagging"
   ]
  },
  {
   "cell_type": "markdown",
   "id": "096d5054",
   "metadata": {},
   "source": [
    "\n",
    "Using `with_outliers`:\n",
    "\n",
    "1) Compute **z-scores** and count points with **|z| > 3**.  \n",
    "2) Show the **indices** (or values) of these potential outliers.  \n",
    "3) Explain the difference between **statistical outliers** and **bad data**.\n"
   ]
  },
  {
   "cell_type": "code",
   "execution_count": 20,
   "id": "8a424805",
   "metadata": {},
   "outputs": [],
   "source": [
    "# 👇 Your code here"
   ]
  },
  {
   "cell_type": "markdown",
   "id": "573c86d5",
   "metadata": {},
   "source": [
    "_Use this cell for your interpretation / short write-up._"
   ]
  },
  {
   "cell_type": "markdown",
   "id": "91e787ac",
   "metadata": {},
   "source": [
    "**Instructor Reference — D2 Solution**"
   ]
  },
  {
   "cell_type": "code",
   "execution_count": 21,
   "id": "a2e3d14d",
   "metadata": {},
   "outputs": [
    {
     "name": "stdout",
     "output_type": "stream",
     "text": [
      "{'count_gt_3sd': 19, 'fraction': 0.0038}\n"
     ]
    },
    {
     "data": {
      "text/plain": [
       "85      5.690295\n",
       "553    -5.917001\n",
       "688    -3.453305\n",
       "1182   -3.516856\n",
       "1336   -3.880246\n",
       "1430   16.522891\n",
       "1719   20.732260\n",
       "1819   -3.792258\n",
       "1856   -3.552507\n",
       "2055   10.940303\n",
       "2502   -3.497716\n",
       "2595    5.665532\n",
       "2627    5.007235\n",
       "3181   17.353709\n",
       "3185   -3.390723\n",
       "3580   -3.451370\n",
       "3760   10.433498\n",
       "3847    9.650871\n",
       "4345    3.867607\n",
       "Name: with_outliers, dtype: float64"
      ]
     },
     "execution_count": 21,
     "metadata": {},
     "output_type": "execute_result"
    }
   ],
   "source": [
    "s = df[\"with_outliers\"]\n",
    "z = z_scores(s)\n",
    "mask = z.abs() > 3\n",
    "out_idx = np.where(mask)[0]\n",
    "summary = {\n",
    "    \"count_gt_3sd\": int(mask.sum()),\n",
    "    \"fraction\": float(mask.mean())\n",
    "}\n",
    "print(summary)\n",
    "s.loc[mask].head(20)  # peek"
   ]
  },
  {
   "cell_type": "markdown",
   "id": "f1412eaa",
   "metadata": {},
   "source": [
    "**Professional interpretation:**  \n",
    "- **Statistical outliers**: extreme but potentially valid observations (e.g., real spikes).  \n",
    "- **Bad data**: errors (entry, sensor, ETL). Treat outliers with context — investigate before removing, and document your criteria."
   ]
  },
  {
   "cell_type": "markdown",
   "id": "9fa129e6",
   "metadata": {},
   "source": [
    "# Section E — Distribution Rules"
   ]
  },
  {
   "cell_type": "markdown",
   "id": "1cc424b1",
   "metadata": {},
   "source": [
    "### E1. Empirical Rule (68–95–99.7)"
   ]
  },
  {
   "cell_type": "markdown",
   "id": "effc3406",
   "metadata": {},
   "source": [
    "\n",
    "For `normal` and `t_df3`:\n",
    "\n",
    "1) Compute proportions within **1, 2, 3** SDs of the mean.  \n",
    "2) Compare vs **68%/95%/99.7%**. Where does it **match or break down**, and why?  \n",
    "3) What mistakes happen if someone assumes normality where it doesn’t hold?\n"
   ]
  },
  {
   "cell_type": "code",
   "execution_count": 22,
   "id": "7a519f55",
   "metadata": {},
   "outputs": [],
   "source": [
    "# 👇 Your code here"
   ]
  },
  {
   "cell_type": "markdown",
   "id": "a1998d24",
   "metadata": {},
   "source": [
    "_Use this cell for your interpretation / short write-up._"
   ]
  },
  {
   "cell_type": "markdown",
   "id": "4ba214f0",
   "metadata": {},
   "source": [
    "**Instructor Reference — E1 Solution**"
   ]
  },
  {
   "cell_type": "code",
   "execution_count": 23,
   "id": "5b924f0f",
   "metadata": {},
   "outputs": [
    {
     "data": {
      "text/html": [
       "<div>\n",
       "<style scoped>\n",
       "    .dataframe tbody tr th:only-of-type {\n",
       "        vertical-align: middle;\n",
       "    }\n",
       "\n",
       "    .dataframe tbody tr th {\n",
       "        vertical-align: top;\n",
       "    }\n",
       "\n",
       "    .dataframe thead th {\n",
       "        text-align: right;\n",
       "    }\n",
       "</style>\n",
       "<table border=\"1\" class=\"dataframe\">\n",
       "  <thead>\n",
       "    <tr style=\"text-align: right;\">\n",
       "      <th></th>\n",
       "      <th>normal</th>\n",
       "      <th>t_df3</th>\n",
       "    </tr>\n",
       "  </thead>\n",
       "  <tbody>\n",
       "    <tr>\n",
       "      <th>k=1</th>\n",
       "      <td>0.686000</td>\n",
       "      <td>0.812200</td>\n",
       "    </tr>\n",
       "    <tr>\n",
       "      <th>k=2</th>\n",
       "      <td>0.953200</td>\n",
       "      <td>0.957000</td>\n",
       "    </tr>\n",
       "    <tr>\n",
       "      <th>k=3</th>\n",
       "      <td>0.997400</td>\n",
       "      <td>0.984400</td>\n",
       "    </tr>\n",
       "  </tbody>\n",
       "</table>\n",
       "</div>"
      ],
      "text/plain": [
       "      normal    t_df3\n",
       "k=1 0.686000 0.812200\n",
       "k=2 0.953200 0.957000\n",
       "k=3 0.997400 0.984400"
      ]
     },
     "execution_count": 23,
     "metadata": {},
     "output_type": "execute_result"
    }
   ],
   "source": [
    "def within_k_report(s):\n",
    "    return pd.Series({\n",
    "        \"k=1\": empirical_within_k(s, 1),\n",
    "        \"k=2\": empirical_within_k(s, 2),\n",
    "        \"k=3\": empirical_within_k(s, 3)\n",
    "    })\n",
    "\n",
    "res = pd.DataFrame({\n",
    "    \"normal\": within_k_report(df[\"normal\"]),\n",
    "    \"t_df3\": within_k_report(df[\"t_df3\"])\n",
    "})\n",
    "res"
   ]
  },
  {
   "cell_type": "markdown",
   "id": "d92bc968",
   "metadata": {},
   "source": [
    "**Professional interpretation:**  \n",
    "- `normal` ≈ 68/95/99.7 as expected.  \n",
    "- `t_df3` typically has **fewer** points within k SDs (heavier tails).  \n",
    "Assuming normality on heavy-tailed data **underestimates tail risk**, leading to brittle SLAs or insufficient buffers."
   ]
  },
  {
   "cell_type": "markdown",
   "id": "65a2ec0c",
   "metadata": {},
   "source": [
    "### E2. Chebyshev’s Inequality (distribution-free)"
   ]
  },
  {
   "cell_type": "markdown",
   "id": "57e98fff",
   "metadata": {},
   "source": [
    "\n",
    "Pick any **three columns**:\n",
    "\n",
    "1) For **k = 2, 3**, compute Chebyshev’s **lower bound** (≥ 1 − 1/k²) for proportion within k SDs.  \n",
    "2) Compute the **actual proportions** and compare.  \n",
    "3) Explain why Chebyshev can be **loose** yet **useful**.\n"
   ]
  },
  {
   "cell_type": "code",
   "execution_count": 24,
   "id": "848cdb15",
   "metadata": {},
   "outputs": [],
   "source": [
    "# 👇 Your code here"
   ]
  },
  {
   "cell_type": "markdown",
   "id": "3fc673a8",
   "metadata": {},
   "source": [
    "_Use this cell for your interpretation / short write-up._"
   ]
  },
  {
   "cell_type": "markdown",
   "id": "72f84b51",
   "metadata": {},
   "source": [
    "**Instructor Reference — E2 Solution**"
   ]
  },
  {
   "cell_type": "code",
   "execution_count": 25,
   "id": "e11ebb51",
   "metadata": {},
   "outputs": [
    {
     "data": {
      "text/html": [
       "<div>\n",
       "<style scoped>\n",
       "    .dataframe tbody tr th:only-of-type {\n",
       "        vertical-align: middle;\n",
       "    }\n",
       "\n",
       "    .dataframe tbody tr th {\n",
       "        vertical-align: top;\n",
       "    }\n",
       "\n",
       "    .dataframe thead tr th {\n",
       "        text-align: left;\n",
       "    }\n",
       "\n",
       "    .dataframe thead tr:last-of-type th {\n",
       "        text-align: right;\n",
       "    }\n",
       "</style>\n",
       "<table border=\"1\" class=\"dataframe\">\n",
       "  <thead>\n",
       "    <tr>\n",
       "      <th></th>\n",
       "      <th colspan=\"2\" halign=\"left\">chebyshev_lower_bound</th>\n",
       "      <th colspan=\"2\" halign=\"left\">actual_within_k</th>\n",
       "    </tr>\n",
       "    <tr>\n",
       "      <th>k</th>\n",
       "      <th>2</th>\n",
       "      <th>3</th>\n",
       "      <th>2</th>\n",
       "      <th>3</th>\n",
       "    </tr>\n",
       "    <tr>\n",
       "      <th>column</th>\n",
       "      <th></th>\n",
       "      <th></th>\n",
       "      <th></th>\n",
       "      <th></th>\n",
       "    </tr>\n",
       "  </thead>\n",
       "  <tbody>\n",
       "    <tr>\n",
       "      <th>lognormal</th>\n",
       "      <td>0.750000</td>\n",
       "      <td>0.888889</td>\n",
       "      <td>0.963000</td>\n",
       "      <td>0.984400</td>\n",
       "    </tr>\n",
       "    <tr>\n",
       "      <th>t_df3</th>\n",
       "      <td>0.750000</td>\n",
       "      <td>0.888889</td>\n",
       "      <td>0.957000</td>\n",
       "      <td>0.984400</td>\n",
       "    </tr>\n",
       "    <tr>\n",
       "      <th>with_outliers</th>\n",
       "      <td>0.750000</td>\n",
       "      <td>0.888889</td>\n",
       "      <td>0.974800</td>\n",
       "      <td>0.996200</td>\n",
       "    </tr>\n",
       "  </tbody>\n",
       "</table>\n",
       "</div>"
      ],
      "text/plain": [
       "              chebyshev_lower_bound          actual_within_k         \n",
       "k                                 2        3               2        3\n",
       "column                                                               \n",
       "lognormal                  0.750000 0.888889        0.963000 0.984400\n",
       "t_df3                      0.750000 0.888889        0.957000 0.984400\n",
       "with_outliers              0.750000 0.888889        0.974800 0.996200"
      ]
     },
     "execution_count": 25,
     "metadata": {},
     "output_type": "execute_result"
    }
   ],
   "source": [
    "cols = [\"lognormal\", \"t_df3\", \"with_outliers\"]\n",
    "records = []\n",
    "for c in cols:\n",
    "    s = df[c]\n",
    "    for k in (2, 3):\n",
    "        records.append({\n",
    "            \"column\": c, \"k\": k,\n",
    "            \"chebyshev_lower_bound\": chebyshev_lower_bound(k),\n",
    "            \"actual_within_k\": empirical_within_k(s, k)\n",
    "        })\n",
    "pd.DataFrame(records).pivot(index=\"column\", columns=\"k\", values=[\"chebyshev_lower_bound\",\"actual_within_k\"])"
   ]
  },
  {
   "cell_type": "markdown",
   "id": "f2019517",
   "metadata": {},
   "source": [
    "**Professional interpretation:**  \n",
    "Chebyshev is **conservative** (loose) but **distribution-free** (works without normality).  \n",
    "It gives a guaranteed floor when you can’t assume shape — valuable for worst-case planning and policy guarantees."
   ]
  },
  {
   "cell_type": "markdown",
   "id": "3374ed04",
   "metadata": {},
   "source": [
    "# Section F — Synthesis & Communication"
   ]
  },
  {
   "cell_type": "markdown",
   "id": "f73ec57f",
   "metadata": {},
   "source": [
    "### F1. Tell the Data Story"
   ]
  },
  {
   "cell_type": "markdown",
   "id": "7dd479a9",
   "metadata": {},
   "source": [
    "\n",
    "Choose **two** contrasting columns (e.g., `lognormal` vs `t_df3`).\n",
    "\n",
    "Write a short **executive note** (5–10 sentences) explaining:\n",
    "- **Typical** value (and why median vs mean)  \n",
    "- **Spread/volatility** summary  \n",
    "- **Shape/tails** and planning implications  \n",
    "- **Extremes** (1–5% worst cases)  \n",
    "- **Actionable recommendations** (monitoring, guardrails, buffers)\n"
   ]
  },
  {
   "cell_type": "code",
   "execution_count": 26,
   "id": "686c5a84",
   "metadata": {},
   "outputs": [],
   "source": [
    "# 👇 Your code here"
   ]
  },
  {
   "cell_type": "markdown",
   "id": "8e5dc6ee",
   "metadata": {},
   "source": [
    "_Use this cell for your interpretation / short write-up._"
   ]
  },
  {
   "cell_type": "markdown",
   "id": "a20a48d0",
   "metadata": {},
   "source": [
    "**Instructor Reference — F1 Solution (Reference Narrative)**"
   ]
  },
  {
   "cell_type": "code",
   "execution_count": null,
   "id": "a3dab9c5",
   "metadata": {},
   "outputs": [],
   "source": []
  },
  {
   "cell_type": "markdown",
   "id": "968fe452",
   "metadata": {},
   "source": [
    "**Executive note (example):**  \n",
    "The `lognormal` metric is right-skewed; a small share of high values lifts the mean above the median, \n",
    "so the **median** is the more representative typical value. Its relative variability (CV) is moderate, \n",
    "but rare spikes (p95–p99) are materially higher than the median; we recommend reporting both median and p95 \n",
    "to set realistic expectations.  \n",
    "\n",
    "By contrast, `t_df3` is approximately symmetric around its center but **heavy-tailed**; while the mean/median align,\n",
    "tail risk (more frequent extremes) is higher than under a normal assumption. Planning that assumes normality\n",
    "will under-buffer capacity; for robust operations, size buffers using empirical p95/p99 and monitor tail events.\n",
    "We recommend using percentile SLAs, with alerts when tail frequencies exceed thresholds."
   ]
  },
  {
   "cell_type": "markdown",
   "id": "7c5faec2",
   "metadata": {},
   "source": [
    "---"
   ]
  },
  {
   "cell_type": "markdown",
   "id": "3da504f9",
   "metadata": {},
   "source": [
    "### Submission Checklist"
   ]
  },
  {
   "cell_type": "markdown",
   "id": "5b15b757",
   "metadata": {},
   "source": [
    "\n",
    "- ✅ Run all cells in order.  \n",
    "- ✅ Provide a short interpretation after each question.  \n",
    "- ✅ If you add visuals or helpers, justify briefly (what insight they add).  \n",
    "- ✅ When handling outliers, **state your rule** and keep it consistent.  \n",
    "- ✅ Prefer median/percentiles for skewed or outlier-prone metrics.  \n",
    "- ✅ When in doubt about distributional shape, **don’t assume normality** — use Chebyshev or empirical percentiles.\n"
   ]
  },
  {
   "cell_type": "markdown",
   "id": "f448b837",
   "metadata": {},
   "source": []
  },
  {
   "cell_type": "markdown",
   "id": "6927ed5d",
   "metadata": {},
   "source": []
  },
  {
   "cell_type": "markdown",
   "id": "92535e2e",
   "metadata": {},
   "source": []
  },
  {
   "cell_type": "markdown",
   "id": "5a3b6de1",
   "metadata": {},
   "source": []
  }
 ],
 "metadata": {
  "kernelspec": {
   "display_name": "base",
   "language": "python",
   "name": "python3"
  },
  "language_info": {
   "codemirror_mode": {
    "name": "ipython",
    "version": 3
   },
   "file_extension": ".py",
   "mimetype": "text/x-python",
   "name": "python",
   "nbconvert_exporter": "python",
   "pygments_lexer": "ipython3",
   "version": "3.12.7"
  }
 },
 "nbformat": 4,
 "nbformat_minor": 5
}
